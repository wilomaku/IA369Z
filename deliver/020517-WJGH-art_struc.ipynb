{
 "cells": [
  {
   "cell_type": "markdown",
   "metadata": {},
   "source": [
    "# Corpus callosum's shape signature applications\n",
    "\n",
    "## Objective\n",
    "\n",
    "Use a shape's metric based-on corpus callosum signature for segmentation evaluation in different modalities.\n",
    "\n",
    "## Workflow\n",
    "\n",
    "<img src=\"workflow.png\">\n",
    "\n",
    "## Metodology\n",
    "\n",
    "### Data\n",
    "\n",
    "T1, DWI and DTI images for 145 subjects. Brain and corpus callosum masks in T1 and diffusion spaces per subject. This dataset was obtained at Hospital form University of Campinas.\n",
    "\n",
    "### Tools\n",
    "\n",
    "It was used Jupyter/Python-Numpy for main coding and Matplotlib and Scikit-learn for specific tasks. For segmentation's implementation Freesurfer was used.\n",
    "\n",
    "### Methods\n",
    "\n",
    "Three images from different modalities were segmented using different methods: T1 image was segmented using Freesurfer, T2 image was segmented using Freesurfer and DTI image was segmented using ROQS. For each segmentation, shape signature was extracted and directly compared with shape signature of the T1 manual segmentation (ground-truth). RMSE was used as comparation metric between signatures.\n",
    "\n",
    "### References"
   ]
  }
 ],
 "metadata": {
  "kernelspec": {
   "display_name": "Python 2",
   "language": "python",
   "name": "python2"
  },
  "language_info": {
   "codemirror_mode": {
    "name": "ipython",
    "version": 2
   },
   "file_extension": ".py",
   "mimetype": "text/x-python",
   "name": "python",
   "nbconvert_exporter": "python",
   "pygments_lexer": "ipython2",
   "version": "2.7.6"
  }
 },
 "nbformat": 4,
 "nbformat_minor": 2
}
